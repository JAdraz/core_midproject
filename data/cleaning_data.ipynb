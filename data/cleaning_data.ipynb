{
 "cells": [
  {
   "cell_type": "code",
   "execution_count": 1,
   "id": "1d1902c1",
   "metadata": {},
   "outputs": [],
   "source": [
    "import pandas as pd"
   ]
  },
  {
   "cell_type": "code",
   "execution_count": 2,
   "id": "b917a96f",
   "metadata": {},
   "outputs": [],
   "source": [
    "# importing file to clean\n",
    "confirmed = pd.read_csv(\"confirmed_global.csv\")\n",
    "deaths = pd.read_csv('deaths_global.csv')\n",
    "recovered = pd.read_csv('recovered_global.csv')"
   ]
  },
  {
   "cell_type": "code",
   "execution_count": null,
   "id": "9f13c55b",
   "metadata": {},
   "outputs": [],
   "source": [
    "# Show only COVID german confirmed cases\n",
    "germany = confirmed.loc[confirmed['Country/Region']=='Germany']\n",
    "germany"
   ]
  },
  {
   "cell_type": "code",
   "execution_count": null,
   "id": "e9237dbd",
   "metadata": {},
   "outputs": [],
   "source": [
    "# Dropping Province/State column from confirmed table\n",
    "germany_confirmed_cases = germany.drop(['Province/State'], axis=1)\n",
    "germany_confirmed_cases"
   ]
  },
  {
   "cell_type": "code",
   "execution_count": null,
   "id": "df85e105",
   "metadata": {},
   "outputs": [],
   "source": [
    "# Creating the new csv file of confirmed german cases\n",
    "germany_confirmed_cases.to_csv('germany_confirmed_cases.csv')"
   ]
  },
  {
   "cell_type": "code",
   "execution_count": null,
   "id": "7f516ae1",
   "metadata": {},
   "outputs": [],
   "source": [
    "# Show only COVID german deaths\n",
    "germany_deaths = deaths.loc[deaths['Country/Region']=='Germany']\n",
    "germany_deaths"
   ]
  },
  {
   "cell_type": "code",
   "execution_count": null,
   "id": "f2bee5db",
   "metadata": {},
   "outputs": [],
   "source": [
    "# Dropping Province/State column from deaths table\n",
    "germany_confirmed_deaths = germany_deaths.drop(['Province/State'], axis=1)\n",
    "germany_confirmed_deaths"
   ]
  },
  {
   "cell_type": "code",
   "execution_count": null,
   "id": "d4153ca8",
   "metadata": {},
   "outputs": [],
   "source": [
    "# Creating the new csv file of confirmed german deaths\n",
    "germany_confirmed_deaths.to_csv('germany_confirmed_deaths.csv')"
   ]
  },
  {
   "cell_type": "code",
   "execution_count": 6,
   "id": "e48d1254",
   "metadata": {},
   "outputs": [
    {
     "data": {
      "text/html": [
       "<div>\n",
       "<style scoped>\n",
       "    .dataframe tbody tr th:only-of-type {\n",
       "        vertical-align: middle;\n",
       "    }\n",
       "\n",
       "    .dataframe tbody tr th {\n",
       "        vertical-align: top;\n",
       "    }\n",
       "\n",
       "    .dataframe thead th {\n",
       "        text-align: right;\n",
       "    }\n",
       "</style>\n",
       "<table border=\"1\" class=\"dataframe\">\n",
       "  <thead>\n",
       "    <tr style=\"text-align: right;\">\n",
       "      <th></th>\n",
       "      <th>Province/State</th>\n",
       "      <th>Country/Region</th>\n",
       "      <th>Lat</th>\n",
       "      <th>Long</th>\n",
       "      <th>1/22/20</th>\n",
       "      <th>1/23/20</th>\n",
       "      <th>1/24/20</th>\n",
       "      <th>1/25/20</th>\n",
       "      <th>1/26/20</th>\n",
       "      <th>1/27/20</th>\n",
       "      <th>...</th>\n",
       "      <th>4/1/21</th>\n",
       "      <th>4/2/21</th>\n",
       "      <th>4/3/21</th>\n",
       "      <th>4/4/21</th>\n",
       "      <th>4/5/21</th>\n",
       "      <th>4/6/21</th>\n",
       "      <th>4/7/21</th>\n",
       "      <th>4/8/21</th>\n",
       "      <th>4/9/21</th>\n",
       "      <th>4/10/21</th>\n",
       "    </tr>\n",
       "  </thead>\n",
       "  <tbody>\n",
       "    <tr>\n",
       "      <th>118</th>\n",
       "      <td>NaN</td>\n",
       "      <td>Germany</td>\n",
       "      <td>51.165691</td>\n",
       "      <td>10.451526</td>\n",
       "      <td>0</td>\n",
       "      <td>0</td>\n",
       "      <td>0</td>\n",
       "      <td>0</td>\n",
       "      <td>0</td>\n",
       "      <td>0</td>\n",
       "      <td>...</td>\n",
       "      <td>2552020</td>\n",
       "      <td>2566530</td>\n",
       "      <td>2575740</td>\n",
       "      <td>2585850</td>\n",
       "      <td>2587580</td>\n",
       "      <td>2604890</td>\n",
       "      <td>2638320</td>\n",
       "      <td>2640300</td>\n",
       "      <td>2654930</td>\n",
       "      <td>2668910</td>\n",
       "    </tr>\n",
       "  </tbody>\n",
       "</table>\n",
       "<p>1 rows × 449 columns</p>\n",
       "</div>"
      ],
      "text/plain": [
       "    Province/State Country/Region        Lat       Long  1/22/20  1/23/20  \\\n",
       "118            NaN        Germany  51.165691  10.451526        0        0   \n",
       "\n",
       "     1/24/20  1/25/20  1/26/20  1/27/20  ...   4/1/21   4/2/21   4/3/21  \\\n",
       "118        0        0        0        0  ...  2552020  2566530  2575740   \n",
       "\n",
       "      4/4/21   4/5/21   4/6/21   4/7/21   4/8/21   4/9/21  4/10/21  \n",
       "118  2585850  2587580  2604890  2638320  2640300  2654930  2668910  \n",
       "\n",
       "[1 rows x 449 columns]"
      ]
     },
     "execution_count": 6,
     "metadata": {},
     "output_type": "execute_result"
    }
   ],
   "source": [
    "# Show only COVID german recovered cases\n",
    "germany_recovered = recovered.loc[recovered['Country/Region']=='Germany']\n",
    "germany_recovered"
   ]
  },
  {
   "cell_type": "code",
   "execution_count": 8,
   "id": "68f4b89b",
   "metadata": {},
   "outputs": [
    {
     "data": {
      "text/html": [
       "<div>\n",
       "<style scoped>\n",
       "    .dataframe tbody tr th:only-of-type {\n",
       "        vertical-align: middle;\n",
       "    }\n",
       "\n",
       "    .dataframe tbody tr th {\n",
       "        vertical-align: top;\n",
       "    }\n",
       "\n",
       "    .dataframe thead th {\n",
       "        text-align: right;\n",
       "    }\n",
       "</style>\n",
       "<table border=\"1\" class=\"dataframe\">\n",
       "  <thead>\n",
       "    <tr style=\"text-align: right;\">\n",
       "      <th></th>\n",
       "      <th>Country/Region</th>\n",
       "      <th>Lat</th>\n",
       "      <th>Long</th>\n",
       "      <th>1/22/20</th>\n",
       "      <th>1/23/20</th>\n",
       "      <th>1/24/20</th>\n",
       "      <th>1/25/20</th>\n",
       "      <th>1/26/20</th>\n",
       "      <th>1/27/20</th>\n",
       "      <th>1/28/20</th>\n",
       "      <th>...</th>\n",
       "      <th>4/1/21</th>\n",
       "      <th>4/2/21</th>\n",
       "      <th>4/3/21</th>\n",
       "      <th>4/4/21</th>\n",
       "      <th>4/5/21</th>\n",
       "      <th>4/6/21</th>\n",
       "      <th>4/7/21</th>\n",
       "      <th>4/8/21</th>\n",
       "      <th>4/9/21</th>\n",
       "      <th>4/10/21</th>\n",
       "    </tr>\n",
       "  </thead>\n",
       "  <tbody>\n",
       "    <tr>\n",
       "      <th>118</th>\n",
       "      <td>Germany</td>\n",
       "      <td>51.165691</td>\n",
       "      <td>10.451526</td>\n",
       "      <td>0</td>\n",
       "      <td>0</td>\n",
       "      <td>0</td>\n",
       "      <td>0</td>\n",
       "      <td>0</td>\n",
       "      <td>0</td>\n",
       "      <td>0</td>\n",
       "      <td>...</td>\n",
       "      <td>2552020</td>\n",
       "      <td>2566530</td>\n",
       "      <td>2575740</td>\n",
       "      <td>2585850</td>\n",
       "      <td>2587580</td>\n",
       "      <td>2604890</td>\n",
       "      <td>2638320</td>\n",
       "      <td>2640300</td>\n",
       "      <td>2654930</td>\n",
       "      <td>2668910</td>\n",
       "    </tr>\n",
       "  </tbody>\n",
       "</table>\n",
       "<p>1 rows × 448 columns</p>\n",
       "</div>"
      ],
      "text/plain": [
       "    Country/Region        Lat       Long  1/22/20  1/23/20  1/24/20  1/25/20  \\\n",
       "118        Germany  51.165691  10.451526        0        0        0        0   \n",
       "\n",
       "     1/26/20  1/27/20  1/28/20  ...   4/1/21   4/2/21   4/3/21   4/4/21  \\\n",
       "118        0        0        0  ...  2552020  2566530  2575740  2585850   \n",
       "\n",
       "      4/5/21   4/6/21   4/7/21   4/8/21   4/9/21  4/10/21  \n",
       "118  2587580  2604890  2638320  2640300  2654930  2668910  \n",
       "\n",
       "[1 rows x 448 columns]"
      ]
     },
     "execution_count": 8,
     "metadata": {},
     "output_type": "execute_result"
    }
   ],
   "source": [
    "# Dropping Province/State column from deaths table\n",
    "germany_confirmed_recovered = germany_recovered.drop(['Province/State'], axis=1)\n",
    "germany_confirmed_recovered"
   ]
  },
  {
   "cell_type": "code",
   "execution_count": 9,
   "id": "6f0e8582",
   "metadata": {},
   "outputs": [],
   "source": [
    "# Creating the new csv file of confirmed german recovered\n",
    "germany_confirmed_recovered.to_csv('germany_confirmed_recovered.csv')"
   ]
  }
 ],
 "metadata": {
  "kernelspec": {
   "display_name": "core",
   "language": "python",
   "name": "python3"
  },
  "language_info": {
   "codemirror_mode": {
    "name": "ipython",
    "version": 3
   },
   "file_extension": ".py",
   "mimetype": "text/x-python",
   "name": "python",
   "nbconvert_exporter": "python",
   "pygments_lexer": "ipython3",
   "version": "3.9.15"
  },
  "vscode": {
   "interpreter": {
    "hash": "29943cb40dc94ba2cae1c07e527dd0c816f182a555273df1b411d54a55538cf5"
   }
  }
 },
 "nbformat": 4,
 "nbformat_minor": 5
}
